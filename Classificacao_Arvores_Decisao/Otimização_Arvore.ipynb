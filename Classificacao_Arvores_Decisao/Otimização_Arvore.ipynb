{
  "nbformat": 4,
  "nbformat_minor": 0,
  "metadata": {
    "colab": {
      "provenance": []
    },
    "kernelspec": {
      "name": "python3",
      "display_name": "Python 3"
    },
    "language_info": {
      "name": "python"
    }
  },
  "cells": [
    {
      "cell_type": "markdown",
      "source": [
        "# **ANÁLISE, EXPLORAÇÃO E TRATAMENTO DOS DADOS**"
      ],
      "metadata": {
        "id": "1H2xxJkYjuG_"
      }
    },
    {
      "cell_type": "code",
      "execution_count": null,
      "metadata": {
        "id": "yOlrQ7C-CVdr"
      },
      "outputs": [],
      "source": [
        "import pandas as pd\n",
        "import numpy as np\n",
        "import matplotlib.pyplot as plt"
      ]
    },
    {
      "cell_type": "code",
      "source": [
        "import warnings\n",
        "warnings.filterwarnings(\"ignore\")"
      ],
      "metadata": {
        "id": "5CvlvP1KlW2X"
      },
      "execution_count": null,
      "outputs": []
    },
    {
      "cell_type": "markdown",
      "source": [
        "https://www.kaggle.com/uciml/breast-cancer-wisconsin-data "
      ],
      "metadata": {
        "id": "V5x3-qZdt5vA"
      }
    },
    {
      "cell_type": "code",
      "metadata": {
        "id": "LRIrwcC8kUhT"
      },
      "source": [
        "df = pd.read_csv('/content/drive/MyDrive/Cursos_Udemy/otimizacao_hiperparametro/dados/data_cancer.csv',\n",
        "                    sep=',', encoding='utf-8')"
      ],
      "execution_count": null,
      "outputs": []
    },
    {
      "cell_type": "code",
      "source": [
        "df.head()"
      ],
      "metadata": {
        "id": "QtugliripIyp"
      },
      "execution_count": null,
      "outputs": []
    },
    {
      "cell_type": "code",
      "source": [
        "df.shape"
      ],
      "metadata": {
        "id": "NSH5-od1gRAU"
      },
      "execution_count": null,
      "outputs": []
    },
    {
      "cell_type": "code",
      "source": [
        "df2 = df.drop(columns=['id','Unnamed: 32'])"
      ],
      "metadata": {
        "id": "jH3NTUzNgAHg"
      },
      "execution_count": null,
      "outputs": []
    },
    {
      "cell_type": "code",
      "source": [
        "df2.head()"
      ],
      "metadata": {
        "id": "wsjv0j9zgLIn"
      },
      "execution_count": null,
      "outputs": []
    },
    {
      "cell_type": "code",
      "source": [
        "df2.dtypes"
      ],
      "metadata": {
        "id": "eD_JqU7MgZcV"
      },
      "execution_count": null,
      "outputs": []
    },
    {
      "cell_type": "code",
      "source": [
        "df3 = pd.DataFrame.copy(df2)"
      ],
      "metadata": {
        "id": "oRZk_qOyggK-"
      },
      "execution_count": null,
      "outputs": []
    },
    {
      "cell_type": "code",
      "source": [
        "df3['diagnosis'].replace({'M':0, 'B': 1}, inplace=True)\n",
        "df3.head()"
      ],
      "metadata": {
        "id": "6HTicqX0gx1W"
      },
      "execution_count": null,
      "outputs": []
    },
    {
      "cell_type": "code",
      "execution_count": null,
      "metadata": {
        "id": "TxPu91y5B45R"
      },
      "outputs": [],
      "source": [
        "# Fração de tumores benignos (1) e malignos (0)\n",
        "\n",
        "df3.diagnosis.value_counts() / len(df3.diagnosis)"
      ]
    },
    {
      "cell_type": "markdown",
      "source": [
        "# **PRÉ-PROCESSAMENTO**"
      ],
      "metadata": {
        "id": "yETX-mrG_-dD"
      }
    },
    {
      "cell_type": "markdown",
      "source": [
        "## **Separação em Variáveis Previsoras e Alvo**"
      ],
      "metadata": {
        "id": "Mc61PWcrj6is"
      }
    },
    {
      "cell_type": "code",
      "source": [
        "df3.head()"
      ],
      "metadata": {
        "id": "IbOBZxrkKqP7"
      },
      "execution_count": null,
      "outputs": []
    },
    {
      "cell_type": "code",
      "source": [
        "previsores = df3.iloc[:, 1:32].values\n",
        "previsores"
      ],
      "metadata": {
        "id": "3Pe4SSf3iIHr"
      },
      "execution_count": null,
      "outputs": []
    },
    {
      "cell_type": "code",
      "source": [
        "previsores.shape"
      ],
      "metadata": {
        "id": "hT3blSaCiXWx"
      },
      "execution_count": null,
      "outputs": []
    },
    {
      "cell_type": "code",
      "source": [
        "alvo = df3.iloc[:, 0].values\n",
        "alvo"
      ],
      "metadata": {
        "id": "a8qWEIlEidX4"
      },
      "execution_count": null,
      "outputs": []
    },
    {
      "cell_type": "code",
      "source": [
        "alvo.shape"
      ],
      "metadata": {
        "id": "4LqTlcp4imQY"
      },
      "execution_count": null,
      "outputs": []
    },
    {
      "cell_type": "markdown",
      "source": [
        "**Divisão em dados de treino e teste**"
      ],
      "metadata": {
        "id": "SyXEcwgIkkU8"
      }
    },
    {
      "cell_type": "code",
      "source": [
        "from sklearn.model_selection import train_test_split"
      ],
      "metadata": {
        "id": "466a7Q3ZZ1Xu"
      },
      "execution_count": null,
      "outputs": []
    },
    {
      "cell_type": "code",
      "execution_count": null,
      "metadata": {
        "id": "TORhZ95SCVdw"
      },
      "outputs": [],
      "source": [
        "X_treino, X_teste, y_treino, y_teste = train_test_split(\n",
        "    previsores, alvo, test_size=0.3, random_state=0)\n",
        "\n",
        "X_treino.shape, X_teste.shape"
      ]
    },
    {
      "cell_type": "markdown",
      "source": [
        "# **SEM OTIMIZAR HIPERPARÂMETROS**"
      ],
      "metadata": {
        "id": "W6Ju6qz7QYtc"
      }
    },
    {
      "cell_type": "code",
      "source": [
        "from sklearn.tree import DecisionTreeClassifier\n",
        "from sklearn.model_selection import cross_val_score"
      ],
      "metadata": {
        "id": "noAOa22xb8M0"
      },
      "execution_count": null,
      "outputs": []
    },
    {
      "cell_type": "code",
      "source": [
        "# Desempenho validação cruzada\n",
        "desempenho_cross_val = cross_val_score(estimator = DecisionTreeClassifier(random_state=0),\n",
        "                                       X = X_treino, \n",
        "                                       y = y_treino,\n",
        "                                       scoring = 'roc_auc',\n",
        "                                       cv = 6)\n",
        "\n",
        "print('Desempenho médio de AUC-ROC: {}'.format(round(desempenho_cross_val.mean(),4)))"
      ],
      "metadata": {
        "id": "tr1nPnreQfeH"
      },
      "execution_count": null,
      "outputs": []
    },
    {
      "cell_type": "markdown",
      "metadata": {
        "id": "odWhlb5eCVdl"
      },
      "source": [
        "# **GRID SEARCH**"
      ]
    },
    {
      "cell_type": "code",
      "source": [
        "from sklearn.metrics import roc_auc_score\n",
        "from sklearn.model_selection import GridSearchCV"
      ],
      "metadata": {
        "id": "v5D6FyycAJf6"
      },
      "execution_count": null,
      "outputs": []
    },
    {
      "cell_type": "code",
      "source": [
        "# Configurando a procura com o Grid search\n",
        "grid_search = GridSearchCV(estimator = DecisionTreeClassifier(random_state = 0),\n",
        "                              param_grid = ({'max_depth':range(1,30),'min_samples_split':range(1,5),\n",
        "                                             'criterion':('gini','entropy')}),\n",
        "                              scoring='roc_auc', cv = 6)"
      ],
      "metadata": {
        "id": "QAzNaMF4g-Vh"
      },
      "execution_count": null,
      "outputs": []
    },
    {
      "cell_type": "code",
      "source": [
        "# Configurando os melhores hiperparâmetros\n",
        "grid_search.fit(X_treino, y_treino)"
      ],
      "metadata": {
        "id": "uws9ORGbm5T4"
      },
      "execution_count": null,
      "outputs": []
    },
    {
      "cell_type": "code",
      "execution_count": null,
      "metadata": {
        "id": "hHTFIt2ZCVd0"
      },
      "outputs": [],
      "source": [
        "# Melhores Hiperparâmetros\n",
        "grid_search.best_params_"
      ]
    },
    {
      "cell_type": "code",
      "source": [
        "print('Melhor comprimento máximo: {}'.format(grid_search.best_params_['max_depth']))\n",
        "print('Melhor mínimo amostras: {}'.format(grid_search.best_params_['min_samples_split']))\n",
        "print('Melhor critério: {}'.format(grid_search.best_params_['criterion']))\n",
        "print('Score médio do melhor modelo: {}'.format(round(grid_search.best_score_,3)))"
      ],
      "metadata": {
        "id": "SJsPD8yXjeZ8"
      },
      "execution_count": null,
      "outputs": []
    },
    {
      "cell_type": "code",
      "execution_count": null,
      "metadata": {
        "id": "jVVWHEkYCVd1"
      },
      "outputs": [],
      "source": [
        "# Relação dos dados para todos os modelos\n",
        "results = pd.DataFrame(grid_search.cv_results_)\n",
        "print(results.shape)\n",
        "results.head(3)"
      ]
    },
    {
      "cell_type": "code",
      "execution_count": null,
      "metadata": {
        "id": "KM2wq4wOCVd2"
      },
      "outputs": [],
      "source": [
        "# Ordenando os melhores resultados\n",
        "results.sort_values(by='mean_test_score', ascending=False, inplace=True)\n",
        "\n",
        "results.reset_index(drop=True, inplace=True)\n",
        "\n",
        "results[['param_max_depth', 'param_min_samples_split', 'param_criterion',\n",
        "    'mean_test_score', 'std_test_score']].head()"
      ]
    },
    {
      "cell_type": "code",
      "source": [
        "# ROC-AUC para dados de treino e teste\n",
        "X_treino_prev = grid_search.predict_proba(X_treino)[:,1]\n",
        "X_teste_prev = grid_search.predict_proba(X_teste)[:,1]\n",
        "\n",
        "print('ROC-AUC treino: ', roc_auc_score(y_treino, X_treino_prev))\n",
        "print('ROC-AUC teste: ', roc_auc_score(y_teste, X_teste_prev))"
      ],
      "metadata": {
        "id": "_yKDJ5WeTZuM"
      },
      "execution_count": null,
      "outputs": []
    },
    {
      "cell_type": "markdown",
      "source": [
        "# **RANDOM SEARCH**"
      ],
      "metadata": {
        "id": "-Nqgc2qy-3B-"
      }
    },
    {
      "cell_type": "code",
      "source": [
        "from scipy import stats"
      ],
      "metadata": {
        "id": "bYASuLrKBi2R"
      },
      "execution_count": null,
      "outputs": []
    },
    {
      "cell_type": "code",
      "execution_count": null,
      "metadata": {
        "id": "099gNtPJua14"
      },
      "outputs": [],
      "source": [
        "stats.randint.rvs(1, 6)"
      ]
    },
    {
      "cell_type": "code",
      "execution_count": null,
      "metadata": {
        "id": "xOTcvFVUua15"
      },
      "outputs": [],
      "source": [
        "stats.uniform.rvs(0, 1)"
      ]
    },
    {
      "cell_type": "markdown",
      "source": [
        "## Random Search para o classificador Árvore de Decisão."
      ],
      "metadata": {
        "id": "z3jyXWlDB0-u"
      }
    },
    {
      "cell_type": "code",
      "source": [
        "from sklearn.metrics import roc_auc_score\n",
        "from sklearn.model_selection import RandomizedSearchCV"
      ],
      "metadata": {
        "id": "Jy3us0YPCQo2"
      },
      "execution_count": null,
      "outputs": []
    },
    {
      "cell_type": "code",
      "source": [
        "# Determinação do espaço de hiperparâmetros\n",
        "param_random = dict(\n",
        "    criterion=('gini','entropy'),\n",
        "    min_samples_split=stats.randint(1,8),\n",
        "    max_depth=stats.randint(1, 31))"
      ],
      "metadata": {
        "id": "fmz2pNxDp1Zc"
      },
      "execution_count": null,
      "outputs": []
    },
    {
      "cell_type": "code",
      "source": [
        "random_search = RandomizedSearchCV(estimator = DecisionTreeClassifier(random_state = 0),\n",
        "                              param_distributions=param_random, scoring='roc_auc',\n",
        "                              cv = 6, n_iter=150)"
      ],
      "metadata": {
        "id": "TMMD0NbT9M5o"
      },
      "execution_count": null,
      "outputs": []
    },
    {
      "cell_type": "code",
      "source": [
        "# Configurando os melhores hiperparâmetros\n",
        "random_search.fit(X_treino, y_treino)"
      ],
      "metadata": {
        "id": "hdynIoBaCrad"
      },
      "execution_count": null,
      "outputs": []
    },
    {
      "cell_type": "code",
      "execution_count": null,
      "metadata": {
        "id": "Gfd8plYKua19"
      },
      "outputs": [],
      "source": [
        "# Melhores hiperparâmetros\n",
        "random_search.best_params_"
      ]
    },
    {
      "cell_type": "code",
      "execution_count": null,
      "metadata": {
        "id": "9SSAVz_Nua19"
      },
      "outputs": [],
      "source": [
        "# Resultados para todos os modelos\n",
        "results = pd.DataFrame(random_search.cv_results_)\n",
        "print(results.shape)\n",
        "results.head(2)"
      ]
    },
    {
      "cell_type": "code",
      "execution_count": null,
      "metadata": {
        "id": "0uYE3JcKua1-"
      },
      "outputs": [],
      "source": [
        "# Ordenando os melhores resultados\n",
        "results.sort_values(by='mean_test_score', ascending=False, inplace=True)\n",
        "\n",
        "results.reset_index(drop=True, inplace=True)\n",
        "\n",
        "results[['param_max_depth', 'param_min_samples_split', 'param_criterion',\n",
        "    'mean_test_score', 'std_test_score']].head()"
      ]
    },
    {
      "cell_type": "code",
      "source": [
        "print('Melhor profundidade máxima: {}'.format(random_search.best_params_['max_depth']))\n",
        "print('Melhor mínimo amostras: {}'.format(random_search.best_params_['min_samples_split']))\n",
        "print('Melhor critério: {}'.format(random_search.best_params_['criterion']))\n",
        "print('Score médio do melhor modelo: {}'.format(round(random_search.best_score_,3)))"
      ],
      "metadata": {
        "id": "Thpor_1zSHGN"
      },
      "execution_count": null,
      "outputs": []
    },
    {
      "cell_type": "code",
      "source": [
        "# ROC-AUC para dados de treino e teste\n",
        "X_treino_prev = random_search.predict_proba(X_treino)[:,1]\n",
        "X_teste_prev = random_search.predict_proba(X_teste)[:,1]\n",
        "\n",
        "print('ROC-AUC treino: ', roc_auc_score(y_treino, X_treino_prev))\n",
        "print('ROC-AUC teste: ', roc_auc_score(y_teste, X_teste_prev))"
      ],
      "metadata": {
        "id": "Tk-DhFSgSVy-"
      },
      "execution_count": null,
      "outputs": []
    },
    {
      "cell_type": "markdown",
      "source": [
        "# **OTIMIZAÇÃO BAYESIANA**"
      ],
      "metadata": {
        "id": "ew79CtHBP0_q"
      }
    },
    {
      "cell_type": "code",
      "source": [
        "from sklearn.metrics import roc_auc_score"
      ],
      "metadata": {
        "id": "861DcOl5TWyU"
      },
      "execution_count": null,
      "outputs": []
    },
    {
      "cell_type": "code",
      "source": [
        "pip install scikit-optimize"
      ],
      "metadata": {
        "id": "1kTIQJB_TZlt"
      },
      "execution_count": null,
      "outputs": []
    },
    {
      "cell_type": "code",
      "source": [
        "# Importando o Bayes Search com cross-validation:\n",
        "from skopt import BayesSearchCV"
      ],
      "metadata": {
        "id": "ps1rjFRGTctr"
      },
      "execution_count": null,
      "outputs": []
    },
    {
      "cell_type": "code",
      "source": [
        "# Importando espaços de busca\n",
        "from skopt.space import Integer, Real, Categorical"
      ],
      "metadata": {
        "id": "X8jvbpUZThUZ"
      },
      "execution_count": null,
      "outputs": []
    },
    {
      "cell_type": "code",
      "source": [
        "bayes_search = BayesSearchCV(estimator = DecisionTreeClassifier(random_state = 0),\n",
        "                              search_spaces = {'max_depth':Integer(1,30), \n",
        "                                               'min_samples_split': Integer(2,8),\n",
        "                                               'criterion': Categorical(['gini', 'entropy'])},\n",
        "                              scoring='roc_auc', cv = 6)"
      ],
      "metadata": {
        "id": "GytZAKM3TlPx"
      },
      "execution_count": null,
      "outputs": []
    },
    {
      "cell_type": "code",
      "source": [
        "# Realizando a otimização Bayesiana\n",
        "bayes_search.fit(X_treino, y_treino)"
      ],
      "metadata": {
        "id": "h7TjMbWmU8xJ"
      },
      "execution_count": null,
      "outputs": []
    },
    {
      "cell_type": "code",
      "source": [
        "#Vamos ver informações relevantes:\n",
        "print('Melhor profundidade máxima: {}'.format(bayes_search.best_params_['max_depth']))\n",
        "print('Melhor número mínimo de amostras: {}'.format(bayes_search.best_params_['min_samples_split']))\n",
        "print('Melhor critério: {}'.format(bayes_search.best_params_['criterion']))\n",
        "print('Desempenho AUC-ROC do melhor modelo: {}'.format(round(bayes_search.best_score_,3)))"
      ],
      "metadata": {
        "id": "wC6orEI5XIOg"
      },
      "execution_count": null,
      "outputs": []
    },
    {
      "cell_type": "code",
      "source": [
        "# ROC-AUC para dados de treino e teste\n",
        "X_treino_prev = random_search.predict_proba(X_treino)[:,1]\n",
        "X_teste_prev = random_search.predict_proba(X_teste)[:,1]\n",
        "\n",
        "print('ROC-AUC treino: ', roc_auc_score(y_treino, X_treino_prev))\n",
        "print('ROC-AUC teste: ', roc_auc_score(y_teste, X_teste_prev))"
      ],
      "metadata": {
        "id": "c_ZjsNR9ULkP"
      },
      "execution_count": null,
      "outputs": []
    }
  ]
}