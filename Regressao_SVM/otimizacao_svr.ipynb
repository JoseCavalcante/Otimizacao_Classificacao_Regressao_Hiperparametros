{
  "nbformat": 4,
  "nbformat_minor": 0,
  "metadata": {
    "colab": {
      "provenance": []
    },
    "kernelspec": {
      "name": "python3",
      "display_name": "Python 3"
    },
    "language_info": {
      "name": "python"
    }
  },
  "cells": [
    {
      "cell_type": "code",
      "execution_count": null,
      "metadata": {
        "id": "-Vu-QcFUszOb"
      },
      "outputs": [],
      "source": [
        "import pandas as pd\n",
        "import numpy as np\n",
        "import matplotlib.pyplot as plt"
      ]
    },
    {
      "cell_type": "code",
      "source": [
        "import warnings\n",
        "warnings.filterwarnings(\"ignore\")"
      ],
      "metadata": {
        "id": "4v1wBAPGldLH"
      },
      "execution_count": null,
      "outputs": []
    },
    {
      "cell_type": "markdown",
      "metadata": {
        "id": "5ZQ2nYhQUc3G"
      },
      "source": [
        "Os dados foram extraídos do site do Kaggle:\n",
        "\n",
        "https://www.kaggle.com/schirmerchad/bostonhoustingmlnd"
      ]
    },
    {
      "cell_type": "code",
      "metadata": {
        "id": "LRIrwcC8kUhT"
      },
      "source": [
        "df = pd.read_csv('/content/drive/MyDrive/Cursos_Udemy/otimizacao_hiperparametro/dados/housing.csv',\n",
        "                    sep=',', encoding='iso-8859-1')"
      ],
      "execution_count": null,
      "outputs": []
    },
    {
      "cell_type": "code",
      "source": [
        "df.head()"
      ],
      "metadata": {
        "id": "QtugliripIyp"
      },
      "execution_count": null,
      "outputs": []
    },
    {
      "cell_type": "markdown",
      "source": [
        "**Atributos previsores**\n",
        "\n",
        "RM: é o número médio de cômodos entre os imóveis no bairro.\n",
        "\n",
        "LSTAT: é a porcentagem de proprietários no bairro considerados de \"classe baixa\".\n",
        "\n",
        "PTRATIO: é a razão entre estudantes e professores nas escolas de ensino fundamental e médio no bairro.\n",
        "\n",
        "**Variável alvo**\n",
        "\n",
        "MEDV: valor médio das casas"
      ],
      "metadata": {
        "id": "BxBX5HD17FZn"
      }
    },
    {
      "cell_type": "code",
      "source": [
        "df.shape"
      ],
      "metadata": {
        "id": "-pOctrVgQWpa"
      },
      "execution_count": null,
      "outputs": []
    },
    {
      "cell_type": "markdown",
      "source": [
        "## **EXPLORAÇÃO E TRATAMENTO DOS DADOS**"
      ],
      "metadata": {
        "id": "UQGKY-cV3Iyr"
      }
    },
    {
      "cell_type": "markdown",
      "metadata": {
        "id": "3lk5kf4eZ_sL"
      },
      "source": [
        "Valores Missing (NAN)"
      ]
    },
    {
      "cell_type": "code",
      "metadata": {
        "id": "A24U7d5QYPaV"
      },
      "source": [
        "# RELAÇÃO DA QUANTIDADE\n",
        "df.isnull().sum()"
      ],
      "execution_count": null,
      "outputs": []
    },
    {
      "cell_type": "markdown",
      "source": [
        "**Análise dos tipos de atributos.**"
      ],
      "metadata": {
        "id": "Q_4_5j4Vlz2j"
      }
    },
    {
      "cell_type": "code",
      "metadata": {
        "id": "wopAqivQXpqI"
      },
      "source": [
        "# object: strings\n",
        "# int64: inteiros\n",
        "# float64: reais\n",
        "# complex: complexos\n",
        "df.dtypes"
      ],
      "execution_count": null,
      "outputs": []
    },
    {
      "cell_type": "markdown",
      "metadata": {
        "id": "BjC9JIo5jJ79"
      },
      "source": [
        "**Análise dos outliers**"
      ]
    },
    {
      "cell_type": "code",
      "metadata": {
        "id": "9pBh8XgzjJOX"
      },
      "source": [
        "import plotly.express as px"
      ],
      "execution_count": null,
      "outputs": []
    },
    {
      "cell_type": "code",
      "metadata": {
        "id": "R3RYMYZ0jQgO"
      },
      "source": [
        "boxplot = px.box(df, y=\"RM\")\n",
        "boxplot.show()"
      ],
      "execution_count": null,
      "outputs": []
    },
    {
      "cell_type": "code",
      "source": [
        "boxplot = px.box(df, y=\"LSTAT\")\n",
        "boxplot.show()"
      ],
      "metadata": {
        "id": "QNJ0er6fROyJ"
      },
      "execution_count": null,
      "outputs": []
    },
    {
      "cell_type": "code",
      "source": [
        "boxplot = px.box(df, y=\"PTRATIO\")\n",
        "boxplot.show()"
      ],
      "metadata": {
        "id": "xQXSjXoSRqTg"
      },
      "execution_count": null,
      "outputs": []
    },
    {
      "cell_type": "code",
      "source": [
        "boxplot = px.box(df, y=\"MEDV\")\n",
        "boxplot.show()"
      ],
      "metadata": {
        "id": "B9amK0_pR1Je"
      },
      "execution_count": null,
      "outputs": []
    },
    {
      "cell_type": "markdown",
      "source": [
        "## **ANÁLISE DA CORRELAÇÃO LINEAR**"
      ],
      "metadata": {
        "id": "1_UXHtabUPkP"
      }
    },
    {
      "cell_type": "markdown",
      "metadata": {
        "id": "AINeGYMRQPdW"
      },
      "source": [
        "Pearson (distribuição normal)\n",
        "\n",
        "Spearman (distribuição não normal)\n",
        "\n",
        "Kendall (distribuição não normal com quantidade pequena de amostras)"
      ]
    },
    {
      "cell_type": "markdown",
      "metadata": {
        "id": "_dOyeKE2AesY"
      },
      "source": [
        "Análise da Normalidade"
      ]
    },
    {
      "cell_type": "markdown",
      "metadata": {
        "id": "b38jbpVpBSrN"
      },
      "source": [
        "Teste Shapiro-Wilk"
      ]
    },
    {
      "cell_type": "markdown",
      "metadata": {
        "id": "UBCGqxZiCKzR"
      },
      "source": [
        "Ho = distribuição normal : p > 0.05\n",
        "\n",
        "Ha = distribuição != normal : p <= 0.05"
      ]
    },
    {
      "cell_type": "code",
      "source": [
        "import scipy.stats as stats"
      ],
      "metadata": {
        "id": "aHdWdtOW6h13"
      },
      "execution_count": null,
      "outputs": []
    },
    {
      "cell_type": "code",
      "metadata": {
        "id": "5wcDiCVBL5Ax"
      },
      "source": [
        "stats.shapiro(df.MEDV)"
      ],
      "execution_count": null,
      "outputs": []
    },
    {
      "cell_type": "code",
      "metadata": {
        "id": "wxg4KYhAAqIP"
      },
      "source": [
        "estatistica, p = stats.shapiro(df.MEDV)\n",
        "print('Estatística do teste: {}'.format(estatistica))\n",
        "print('p-valor: {}'.format(p))"
      ],
      "execution_count": null,
      "outputs": []
    },
    {
      "cell_type": "code",
      "metadata": {
        "id": "2CtpuM8PFyio"
      },
      "source": [
        "estatistica, p = stats.shapiro(df.RM)\n",
        "print('Estatística do teste: {}'.format(estatistica))\n",
        "print('p-valor: {}'.format(p))"
      ],
      "execution_count": null,
      "outputs": []
    },
    {
      "cell_type": "code",
      "metadata": {
        "id": "0-fjsQBK3id7"
      },
      "source": [
        "estatistica, p = stats.shapiro(df.LSTAT)\n",
        "print('Estatística do teste: {}'.format(estatistica))\n",
        "print('p-valor: {}'.format(p))"
      ],
      "execution_count": null,
      "outputs": []
    },
    {
      "cell_type": "code",
      "metadata": {
        "id": "Qmbgy-Ie3id8"
      },
      "source": [
        "estatistica, p = stats.shapiro(df.PTRATIO)\n",
        "print('Estatística do teste: {}'.format(estatistica))\n",
        "print('p-valor: {}'.format(p))"
      ],
      "execution_count": null,
      "outputs": []
    },
    {
      "cell_type": "markdown",
      "metadata": {
        "id": "zqLl2LgkQbs3"
      },
      "source": [
        "Ho = não há corrrelação linear: p > 0,05\n",
        "\n",
        "Ha = existe correlação linear: p <= 0,05"
      ]
    },
    {
      "cell_type": "code",
      "metadata": {
        "id": "K1dnDGnDVMQU"
      },
      "source": [
        "# Spearman\n",
        "coef,p = stats.spearmanr(df.MEDV, df.LSTAT)\n",
        "print('Coeficiente de correlação: {}'.format(coef))\n",
        "print('p-valor: {}'.format(p))"
      ],
      "execution_count": null,
      "outputs": []
    },
    {
      "cell_type": "code",
      "source": [
        "plt.scatter(df.RM, df.MEDV)\n",
        "plt.title('Correlação Linear')\n",
        "plt.xlabel('Quantidade Média de Cômodos')\n",
        "plt.ylabel('Valor Médio')\n",
        "plt.grid(False)"
      ],
      "metadata": {
        "id": "xdvIffKTUZ49"
      },
      "execution_count": null,
      "outputs": []
    },
    {
      "cell_type": "code",
      "source": [
        "plt.scatter(df.LSTAT, df.MEDV)\n",
        "plt.title('Correlação Linear')\n",
        "plt.xlabel('Quantidade Classe Baixa (%)')\n",
        "plt.ylabel('Valor Médio')\n",
        "plt.grid(True)\n"
      ],
      "metadata": {
        "id": "g8j-uHDFU-QF"
      },
      "execution_count": null,
      "outputs": []
    },
    {
      "cell_type": "code",
      "source": [
        "plt.scatter(df.PTRATIO, df.MEDV)\n",
        "plt.title('Correlação Linear')\n",
        "plt.xlabel('Estudantes/Professores')\n",
        "plt.ylabel('Valor Médio')\n",
        "plt.grid(False)"
      ],
      "metadata": {
        "id": "Onmpw86_Vqct"
      },
      "execution_count": null,
      "outputs": []
    },
    {
      "cell_type": "code",
      "source": [
        "correlacoes = df.corr(method='spearman')\n",
        "correlacoes"
      ],
      "metadata": {
        "id": "KU0h9BXVWapw"
      },
      "execution_count": null,
      "outputs": []
    },
    {
      "cell_type": "markdown",
      "source": [
        "# **PRÉ-PROCESSAMENTO**"
      ],
      "metadata": {
        "id": "yETX-mrG_-dD"
      }
    },
    {
      "cell_type": "markdown",
      "source": [
        "## **Separação em Variáveis Dependentes e Independentes**"
      ],
      "metadata": {
        "id": "Mc61PWcrj6is"
      }
    },
    {
      "cell_type": "code",
      "source": [
        "df.head(2)"
      ],
      "metadata": {
        "id": "YUF38EvVtCOS"
      },
      "execution_count": null,
      "outputs": []
    },
    {
      "cell_type": "code",
      "metadata": {
        "id": "m1BCYoD6udBc"
      },
      "source": [
        "independente = df.iloc[:, 0:3].values\n",
        "independente"
      ],
      "execution_count": null,
      "outputs": []
    },
    {
      "cell_type": "code",
      "source": [
        "independente.shape"
      ],
      "metadata": {
        "id": "UrL64jazudBe"
      },
      "execution_count": null,
      "outputs": []
    },
    {
      "cell_type": "code",
      "metadata": {
        "id": "BZsXvQGQudBf"
      },
      "source": [
        "dependente = df.iloc[:, 3].values\n",
        "dependente"
      ],
      "execution_count": null,
      "outputs": []
    },
    {
      "cell_type": "markdown",
      "source": [
        "**Divisão em dados de treino e teste**"
      ],
      "metadata": {
        "id": "SyXEcwgIkkU8"
      }
    },
    {
      "cell_type": "code",
      "metadata": {
        "id": "pJmPpACbudBf"
      },
      "source": [
        "from sklearn.model_selection import train_test_split\n",
        "x_treino, x_teste, y_treino, y_teste = train_test_split(independente, dependente, test_size = 0.3, random_state = 0)"
      ],
      "execution_count": null,
      "outputs": []
    },
    {
      "cell_type": "code",
      "metadata": {
        "id": "qEOTgfCnudBg"
      },
      "source": [
        "x_treino.shape, x_teste.shape"
      ],
      "execution_count": null,
      "outputs": []
    },
    {
      "cell_type": "code",
      "source": [
        "y_treino.shape, y_teste.shape"
      ],
      "metadata": {
        "id": "YtwE5YYnl30h"
      },
      "execution_count": null,
      "outputs": []
    },
    {
      "cell_type": "markdown",
      "source": [
        "# **SEM OTIMIZAR HIPERPARÂMETROS**"
      ],
      "metadata": {
        "id": "W6Ju6qz7QYtc"
      }
    },
    {
      "cell_type": "code",
      "source": [
        "from sklearn.model_selection import cross_val_score\n",
        "from sklearn.svm import SVR"
      ],
      "metadata": {
        "id": "WnFgf42_asj2"
      },
      "execution_count": null,
      "outputs": []
    },
    {
      "cell_type": "code",
      "source": [
        "# Desempenho validação cruzada\n",
        "desempenho_cross_val = cross_val_score(estimator = SVR(),\n",
        "                                       X = x_treino, \n",
        "                                       y = y_treino,\n",
        "                                       scoring='neg_root_mean_squared_error',\n",
        "                                       cv = 6)\n",
        "\n",
        "print('RMSE: {}'.format(round(abs(desempenho_cross_val.mean()),1)))"
      ],
      "metadata": {
        "id": "tr1nPnreQfeH"
      },
      "execution_count": null,
      "outputs": []
    },
    {
      "cell_type": "markdown",
      "source": [
        "Opções do scoring: https://scikit-learn.org/stable/modules/model_evaluation.html#scoring-parameter"
      ],
      "metadata": {
        "id": "zjDCNIGunEEr"
      }
    },
    {
      "cell_type": "markdown",
      "source": [
        "# **PRINCIPAIS HIPERPARÂMETROS DE VETORES DE SUPORTE (SVR)**"
      ],
      "metadata": {
        "id": "T3b-GyrNRcKe"
      }
    },
    {
      "cell_type": "code",
      "source": [
        "from sklearn.svm import SVR"
      ],
      "metadata": {
        "id": "-2oaMph5OFa2"
      },
      "execution_count": null,
      "outputs": []
    },
    {
      "cell_type": "code",
      "source": [
        "SVR?"
      ],
      "metadata": {
        "id": "cd_e-h30QTEq"
      },
      "execution_count": null,
      "outputs": []
    },
    {
      "cell_type": "markdown",
      "source": [
        "https://scikit-learn.org/stable/modules/generated/sklearn.svm.SVR.html "
      ],
      "metadata": {
        "id": "s7coKamWXN-_"
      }
    },
    {
      "cell_type": "markdown",
      "metadata": {
        "id": "odWhlb5eCVdl"
      },
      "source": [
        "# **GRID SEARCH**"
      ]
    },
    {
      "cell_type": "code",
      "source": [
        "from sklearn.model_selection import GridSearchCV\n",
        "from sklearn.svm import SVR"
      ],
      "metadata": {
        "id": "SzmMqnWRqenD"
      },
      "execution_count": null,
      "outputs": []
    },
    {
      "cell_type": "code",
      "source": [
        "# Determinação do espaço de hiperparâmetros\n",
        "param_grid = dict(\n",
        "        kernel=['linear', 'poly', 'rbf', 'sigmoid', 'precompute'],\n",
        "        epsilon=[0.001,0.01,0.1,0.5,1,5],\n",
        "        C = [0.25, 0.50, 0.75, 1, 2, 10, 100]\n",
        "    )"
      ],
      "metadata": {
        "id": "HEAkjqjZgOMC"
      },
      "execution_count": null,
      "outputs": []
    },
    {
      "cell_type": "code",
      "source": [
        "# Gerando o modelo\n",
        "svr = SVR()"
      ],
      "metadata": {
        "id": "0JCPv8dQjFGn"
      },
      "execution_count": null,
      "outputs": []
    },
    {
      "cell_type": "code",
      "source": [
        "# Configurando a procura com o Grid search\n",
        "grid_search = GridSearchCV(svr, param_grid, scoring='neg_root_mean_squared_error', cv=6)"
      ],
      "metadata": {
        "id": "0t4WPaSWinqO"
      },
      "execution_count": null,
      "outputs": []
    },
    {
      "cell_type": "code",
      "source": [
        "# Configurando os melhores hiperparâmetros\n",
        "grid_search.fit(x_treino, y_treino)"
      ],
      "metadata": {
        "id": "uws9ORGbm5T4"
      },
      "execution_count": null,
      "outputs": []
    },
    {
      "cell_type": "code",
      "execution_count": null,
      "metadata": {
        "id": "hHTFIt2ZCVd0"
      },
      "outputs": [],
      "source": [
        "# Melhores Hiperparâmetros\n",
        "grid_search.best_params_"
      ]
    },
    {
      "cell_type": "code",
      "source": [
        "print('Melhor Kernel: {}'.format(grid_search.best_params_['kernel']))\n",
        "print('Melhor parâmetro de regularização: {}'.format(grid_search.best_params_['C']))\n",
        "print('Melhor epsilon: {}'.format(grid_search.best_params_['epsilon']))\n",
        "print('RMSE do melhor modelo: {}'.format(round(abs(grid_search.best_score_),1)))"
      ],
      "metadata": {
        "id": "SJsPD8yXjeZ8"
      },
      "execution_count": null,
      "outputs": []
    },
    {
      "cell_type": "code",
      "execution_count": null,
      "metadata": {
        "id": "jVVWHEkYCVd1"
      },
      "outputs": [],
      "source": [
        "# Relação dos dados para todos os modelos\n",
        "results = pd.DataFrame(grid_search.cv_results_)\n",
        "print(results.shape)\n",
        "results.head(3)"
      ]
    },
    {
      "cell_type": "code",
      "execution_count": null,
      "metadata": {
        "id": "KM2wq4wOCVd2"
      },
      "outputs": [],
      "source": [
        "# Ordenando os melhores resultados\n",
        "results.sort_values(by='mean_test_score', ascending=False, inplace=True)\n",
        "\n",
        "results.reset_index(drop=True, inplace=True)\n",
        "\n",
        "results[['param_kernel', 'param_C', 'param_epsilon', 'mean_test_score', 'std_test_score']].head()"
      ]
    },
    {
      "cell_type": "markdown",
      "source": [
        "# **RANDOM SEARCH**"
      ],
      "metadata": {
        "id": "-Nqgc2qy-3B-"
      }
    },
    {
      "cell_type": "code",
      "source": [
        "from scipy import stats"
      ],
      "metadata": {
        "id": "bYASuLrKBi2R"
      },
      "execution_count": null,
      "outputs": []
    },
    {
      "cell_type": "code",
      "source": [
        "from sklearn.svm import SVR\n",
        "from sklearn.model_selection import RandomizedSearchCV"
      ],
      "metadata": {
        "id": "Jy3us0YPCQo2"
      },
      "execution_count": null,
      "outputs": []
    },
    {
      "cell_type": "code",
      "execution_count": null,
      "metadata": {
        "id": "yJaF20Q-ua17"
      },
      "outputs": [],
      "source": [
        "# Gerando o modelo\n",
        "svr = SVR()"
      ]
    },
    {
      "cell_type": "code",
      "source": [
        "# Determinação do espaço de hiperparâmetros\n",
        "param_random = dict(\n",
        "        kernel=['linear', 'poly', 'rbf', 'sigmoid', 'precompute'],\n",
        "        epsilon=stats.uniform(0.001, 100),\n",
        "        C = stats.uniform(0.01, 10)\n",
        "    )"
      ],
      "metadata": {
        "id": "06zvT-GUvCIN"
      },
      "execution_count": null,
      "outputs": []
    },
    {
      "cell_type": "code",
      "execution_count": null,
      "metadata": {
        "id": "UgniAJ8Wua18"
      },
      "outputs": [],
      "source": [
        "# Configurando a procura com o Random Search\n",
        "random_search = RandomizedSearchCV(svr,\n",
        "                            param_random,\n",
        "                            scoring='neg_root_mean_squared_error',\n",
        "                            cv=6,\n",
        "                            random_state=0,\n",
        "                            n_iter=200)"
      ]
    },
    {
      "cell_type": "code",
      "source": [
        "# Analisando os hiperparâmetros\n",
        "random_search.fit(x_treino, y_treino)"
      ],
      "metadata": {
        "id": "hdynIoBaCrad"
      },
      "execution_count": null,
      "outputs": []
    },
    {
      "cell_type": "code",
      "execution_count": null,
      "metadata": {
        "id": "Gfd8plYKua19"
      },
      "outputs": [],
      "source": [
        "# Melhores hiperparâmetros\n",
        "\n",
        "random_search.best_params_"
      ]
    },
    {
      "cell_type": "code",
      "source": [
        "# Resultados:\n",
        "print('Melhor kernel: {}'.format(random_search.best_params_['kernel']))\n",
        "print('Melhor parâmetro de regularização: {}'.format(random_search.best_params_['C']))\n",
        "print('Melhor epsilon: {}'.format(random_search.best_params_['epsilon']))\n",
        "print('RMSE do melhor modelo: {}'.format(round(abs(random_search.best_score_),1)))"
      ],
      "metadata": {
        "id": "zCye3f9QWy7v"
      },
      "execution_count": null,
      "outputs": []
    },
    {
      "cell_type": "code",
      "execution_count": null,
      "metadata": {
        "id": "9SSAVz_Nua19"
      },
      "outputs": [],
      "source": [
        "# Resultados para todos os modelos\n",
        "\n",
        "results = pd.DataFrame(random_search.cv_results_)\n",
        "\n",
        "print(results.shape)\n",
        "\n",
        "results.head()"
      ]
    },
    {
      "cell_type": "code",
      "execution_count": null,
      "metadata": {
        "id": "0uYE3JcKua1-"
      },
      "outputs": [],
      "source": [
        "# Ordenando os modelos com melhores desempenhos\n",
        "results.sort_values(by='mean_test_score', ascending=False, inplace=True)\n",
        "\n",
        "results.reset_index(drop=True, inplace=True)\n",
        "\n",
        "results[['param_kernel', 'param_C', 'param_epsilon','mean_test_score', 'std_test_score']].head(10)"
      ]
    },
    {
      "cell_type": "code",
      "source": [
        "print('RMSE do melhor modelo: {}'.format(round(abs(random_search.best_score_),1)))"
      ],
      "metadata": {
        "id": "3uYlLP-QVl1h"
      },
      "execution_count": null,
      "outputs": []
    },
    {
      "cell_type": "markdown",
      "source": [
        "# **OTIMIZAÇÃO BAYESIANA**"
      ],
      "metadata": {
        "id": "ew79CtHBP0_q"
      }
    },
    {
      "cell_type": "code",
      "source": [
        "pip install scikit-optimize"
      ],
      "metadata": {
        "id": "1kTIQJB_TZlt"
      },
      "execution_count": null,
      "outputs": []
    },
    {
      "cell_type": "code",
      "source": [
        "# Importando o Bayes Search com cross-validation:\n",
        "from skopt import BayesSearchCV"
      ],
      "metadata": {
        "id": "ps1rjFRGTctr"
      },
      "execution_count": null,
      "outputs": []
    },
    {
      "cell_type": "code",
      "source": [
        "from sklearn.svm import SVR"
      ],
      "metadata": {
        "id": "NbrBVhjuTWyV"
      },
      "execution_count": null,
      "outputs": []
    },
    {
      "cell_type": "code",
      "source": [
        "# Importando espaços de busca\n",
        "from skopt.space import Integer, Real, Categorical"
      ],
      "metadata": {
        "id": "X8jvbpUZThUZ"
      },
      "execution_count": null,
      "outputs": []
    },
    {
      "cell_type": "code",
      "source": [
        "# Definindo a otimização Bayesiana:\n",
        "bayes_search = BayesSearchCV(estimator = SVR(),\n",
        "                              search_spaces = {'kernel':Categorical(['linear', 'poly', 'rbf', 'sigmoid']),# precompute não está relacionado\n",
        "                                               'C': Real(0.01,10),\n",
        "                                               'epsilon':Real(0.001,100)},\n",
        "                              scoring='neg_root_mean_squared_error', \n",
        "                              cv = 6,\n",
        "                              n_iter = 100)"
      ],
      "metadata": {
        "id": "GytZAKM3TlPx"
      },
      "execution_count": null,
      "outputs": []
    },
    {
      "cell_type": "code",
      "source": [
        "# Realizando a otimização Bayesiana\n",
        "bayes_search.fit(x_treino, y_treino)"
      ],
      "metadata": {
        "id": "h7TjMbWmU8xJ"
      },
      "execution_count": null,
      "outputs": []
    },
    {
      "cell_type": "code",
      "source": [
        "# Resultados:\n",
        "print('Melhor kernel: {}'.format(bayes_search.best_params_['kernel']))\n",
        "print('Melhor parâmetro de regularização: {}'.format(bayes_search.best_params_['C']))\n",
        "print('Melhor epsilon: {}'.format(bayes_search.best_params_['epsilon']))\n",
        "print('RMSE do melhor modelo: {}'.format(round(abs(bayes_search.best_score_),1)))"
      ],
      "metadata": {
        "id": "wC6orEI5XIOg"
      },
      "execution_count": null,
      "outputs": []
    }
  ]
}