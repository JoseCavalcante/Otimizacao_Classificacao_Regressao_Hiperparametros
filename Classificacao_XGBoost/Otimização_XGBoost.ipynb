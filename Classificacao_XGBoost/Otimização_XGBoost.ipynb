{
  "cells": [
    {
      "cell_type": "markdown",
      "source": [
        "# **ANÁLISE E EXPLORAÇÃO DOS DADOS**"
      ],
      "metadata": {
        "id": "1H2xxJkYjuG_"
      }
    },
    {
      "cell_type": "code",
      "source": [
        "from google.colab import drive\n",
        "drive.mount('/content/drive')"
      ],
      "metadata": {
        "id": "83EtYcINBEA-"
      },
      "execution_count": null,
      "outputs": []
    },
    {
      "cell_type": "code",
      "execution_count": null,
      "metadata": {
        "id": "yOlrQ7C-CVdr"
      },
      "outputs": [],
      "source": [
        "import pandas as pd\n",
        "import numpy as np\n",
        "import matplotlib.pyplot as plt"
      ]
    },
    {
      "cell_type": "code",
      "source": [
        "import warnings\n",
        "warnings.filterwarnings(\"ignore\")"
      ],
      "metadata": {
        "id": "vXLm3cJMlLtC"
      },
      "execution_count": null,
      "outputs": []
    },
    {
      "cell_type": "markdown",
      "source": [
        "https://www.kaggle.com/uciml/breast-cancer-wisconsin-data "
      ],
      "metadata": {
        "id": "V5x3-qZdt5vA"
      }
    },
    {
      "cell_type": "code",
      "metadata": {
        "id": "LRIrwcC8kUhT"
      },
      "source": [
        "df = pd.read_csv('/content/drive/MyDrive/Cursos_Udemy/otimizacao_hiperparametro/dados/data_cancer.csv',\n",
        "                    sep=',', encoding='utf-8')"
      ],
      "execution_count": null,
      "outputs": []
    },
    {
      "cell_type": "code",
      "source": [
        "df.head()"
      ],
      "metadata": {
        "id": "QtugliripIyp"
      },
      "execution_count": null,
      "outputs": []
    },
    {
      "cell_type": "code",
      "source": [
        "df.shape"
      ],
      "metadata": {
        "id": "NSH5-od1gRAU"
      },
      "execution_count": null,
      "outputs": []
    },
    {
      "cell_type": "code",
      "source": [
        "df2 = df.drop(columns=['id','Unnamed: 32'])"
      ],
      "metadata": {
        "id": "jH3NTUzNgAHg"
      },
      "execution_count": null,
      "outputs": []
    },
    {
      "cell_type": "code",
      "source": [
        "df2.head()"
      ],
      "metadata": {
        "id": "wsjv0j9zgLIn"
      },
      "execution_count": null,
      "outputs": []
    },
    {
      "cell_type": "code",
      "source": [
        "df2.dtypes"
      ],
      "metadata": {
        "id": "eD_JqU7MgZcV"
      },
      "execution_count": null,
      "outputs": []
    },
    {
      "cell_type": "code",
      "source": [
        "df3 = pd.DataFrame.copy(df2)"
      ],
      "metadata": {
        "id": "oRZk_qOyggK-"
      },
      "execution_count": null,
      "outputs": []
    },
    {
      "cell_type": "code",
      "source": [
        "df3['diagnosis'].replace({'M':0, 'B': 1}, inplace=True)\n",
        "df3.head()"
      ],
      "metadata": {
        "id": "6HTicqX0gx1W"
      },
      "execution_count": null,
      "outputs": []
    },
    {
      "cell_type": "code",
      "source": [
        "df3.dtypes"
      ],
      "metadata": {
        "id": "ENgv9Su9tIi0"
      },
      "execution_count": null,
      "outputs": []
    },
    {
      "cell_type": "code",
      "execution_count": null,
      "metadata": {
        "id": "TxPu91y5B45R"
      },
      "outputs": [],
      "source": [
        "# Fração de tumores benignos (1) e malignos (0)\n",
        "\n",
        "df3.diagnosis.value_counts() / len(df3.diagnosis)"
      ]
    },
    {
      "cell_type": "markdown",
      "source": [
        "# **PRÉ-PROCESSAMENTO**"
      ],
      "metadata": {
        "id": "yETX-mrG_-dD"
      }
    },
    {
      "cell_type": "markdown",
      "source": [
        "## **Separação em Variáveis Previsoras e Alvo**"
      ],
      "metadata": {
        "id": "Mc61PWcrj6is"
      }
    },
    {
      "cell_type": "code",
      "source": [
        "previsores = df3.iloc[:, 1:32].values\n",
        "previsores"
      ],
      "metadata": {
        "id": "3Pe4SSf3iIHr"
      },
      "execution_count": null,
      "outputs": []
    },
    {
      "cell_type": "code",
      "source": [
        "previsores.shape"
      ],
      "metadata": {
        "id": "hT3blSaCiXWx"
      },
      "execution_count": null,
      "outputs": []
    },
    {
      "cell_type": "code",
      "source": [
        "alvo = df3.iloc[:, 0].values\n",
        "alvo"
      ],
      "metadata": {
        "id": "a8qWEIlEidX4"
      },
      "execution_count": null,
      "outputs": []
    },
    {
      "cell_type": "code",
      "source": [
        "alvo.shape"
      ],
      "metadata": {
        "id": "4LqTlcp4imQY"
      },
      "execution_count": null,
      "outputs": []
    },
    {
      "cell_type": "markdown",
      "source": [
        "**Divisão em dados de treino e teste**"
      ],
      "metadata": {
        "id": "SyXEcwgIkkU8"
      }
    },
    {
      "cell_type": "code",
      "source": [
        "from sklearn.model_selection import train_test_split"
      ],
      "metadata": {
        "id": "466a7Q3ZZ1Xu"
      },
      "execution_count": null,
      "outputs": []
    },
    {
      "cell_type": "code",
      "execution_count": null,
      "metadata": {
        "id": "TORhZ95SCVdw"
      },
      "outputs": [],
      "source": [
        "X_treino, X_teste, y_treino, y_teste = train_test_split(\n",
        "    previsores, alvo, test_size=0.3, random_state=0)\n",
        "\n",
        "X_treino.shape, X_teste.shape"
      ]
    },
    {
      "cell_type": "markdown",
      "source": [
        "# **SEM OTIMIZAR HIPERPARÂMETROS**"
      ],
      "metadata": {
        "id": "W6Ju6qz7QYtc"
      }
    },
    {
      "cell_type": "code",
      "source": [
        "from sklearn.model_selection import cross_val_score\n",
        "from xgboost import XGBClassifier"
      ],
      "metadata": {
        "id": "WnFgf42_asj2"
      },
      "execution_count": null,
      "outputs": []
    },
    {
      "cell_type": "code",
      "source": [
        "# Desempenho validação cruzada\n",
        "desempenho_cross_val = cross_val_score(estimator = XGBClassifier(random_state=0),\n",
        "                                       X = X_treino, \n",
        "                                       y = y_treino,\n",
        "                                       scoring = 'roc_auc',\n",
        "                                       cv = 7)\n",
        "\n",
        "print('Desempenho médio de AUC-ROC: {}'.format(round(desempenho_cross_val.mean(),4)))"
      ],
      "metadata": {
        "id": "tr1nPnreQfeH"
      },
      "execution_count": null,
      "outputs": []
    },
    {
      "cell_type": "markdown",
      "metadata": {
        "id": "odWhlb5eCVdl"
      },
      "source": [
        "# **GRID SEARCH**"
      ]
    },
    {
      "cell_type": "code",
      "source": [
        "from sklearn.metrics import roc_auc_score\n",
        "from sklearn.model_selection import GridSearchCV"
      ],
      "metadata": {
        "id": "v5D6FyycAJf6"
      },
      "execution_count": null,
      "outputs": []
    },
    {
      "cell_type": "code",
      "source": [
        "from xgboost import XGBClassifier"
      ],
      "metadata": {
        "id": "dPrTO-9Kkf2G"
      },
      "execution_count": null,
      "outputs": []
    },
    {
      "cell_type": "code",
      "source": [
        "# Gerando o modelo\n",
        "xgb = XGBClassifier(random_state=0)"
      ],
      "metadata": {
        "id": "_W-Qrc5AmXUD"
      },
      "execution_count": null,
      "outputs": []
    },
    {
      "cell_type": "code",
      "execution_count": null,
      "metadata": {
        "id": "ZLXrw1MlCVdy"
      },
      "outputs": [],
      "source": [
        "# Determinando o espaço do hiperparâmetro\n",
        "param_grid = dict(\n",
        "    n_estimators=[10, 50, 100, 150, 200, 250],\n",
        "    learning_rate=[0.001, 0.01, 0.05, 0.1, 0.15, 0.2],\n",
        "    max_depth=[1,2,3,4,None],\n",
        "    objective=('binary:logistic','binary:logitraw','binary:hinge')\n",
        "    )\n",
        "\n",
        "print('Número de combinações de Hiperparâmetros: ', \n",
        "      len(param_grid['n_estimators']) * len(param_grid['learning_rate']) * len(param_grid['max_depth'])*len(param_grid['objective']))"
      ]
    },
    {
      "cell_type": "code",
      "execution_count": null,
      "metadata": {
        "id": "RzWsjsfuCVdz"
      },
      "outputs": [],
      "source": [
        "# Configurando a procura com o Grid search\n",
        "grid_search = GridSearchCV(xgb, param_grid, scoring='roc_auc', cv=7)"
      ]
    },
    {
      "cell_type": "code",
      "source": [
        "# Configurando os melhores hiperparâmetros\n",
        "grid_search.fit(X_treino, y_treino)"
      ],
      "metadata": {
        "id": "uws9ORGbm5T4"
      },
      "execution_count": null,
      "outputs": []
    },
    {
      "cell_type": "code",
      "execution_count": null,
      "metadata": {
        "id": "hHTFIt2ZCVd0"
      },
      "outputs": [],
      "source": [
        "# Melhores Hiperparâmetros\n",
        "grid_search.best_params_"
      ]
    },
    {
      "cell_type": "code",
      "source": [
        "print('Score médio do melhor modelo: {}'.format(round(grid_search.best_score_,4)))"
      ],
      "metadata": {
        "id": "bfQgD3mJKuXS"
      },
      "execution_count": null,
      "outputs": []
    },
    {
      "cell_type": "code",
      "source": [
        "# Contagem do tempo de execução do treinamento\n",
        "%timeit -n 1 -r 1 grid_search.fit(X_treino, y_treino)\n",
        "print('Tempo para realizar a otimização:') "
      ],
      "metadata": {
        "id": "ivxzKjLGaGQc"
      },
      "execution_count": null,
      "outputs": []
    },
    {
      "cell_type": "code",
      "execution_count": null,
      "metadata": {
        "id": "jVVWHEkYCVd1"
      },
      "outputs": [],
      "source": [
        "# Relação dos dados para todos os modelos\n",
        "\n",
        "results = pd.DataFrame(grid_search.cv_results_)\n",
        "print(results.shape)\n",
        "results.head(3)"
      ]
    },
    {
      "cell_type": "code",
      "execution_count": null,
      "metadata": {
        "id": "KM2wq4wOCVd2"
      },
      "outputs": [],
      "source": [
        "# Ordenando os melhores resultados\n",
        "results.sort_values(by='mean_test_score', ascending=False, inplace=True)\n",
        "\n",
        "results.reset_index(drop=True, inplace=True)\n",
        "\n",
        "results[['param_n_estimators', 'param_learning_rate', 'param_max_depth', 'param_objective',\n",
        "    'mean_test_score', 'std_test_score']].head()"
      ]
    },
    {
      "cell_type": "code",
      "execution_count": null,
      "metadata": {
        "id": "rzcIK5raCVd4"
      },
      "outputs": [],
      "source": [
        "# Gráfico do desempenho do modelo\n",
        "\n",
        "results['mean_test_score'].plot(yerr=[results['std_test_score'], results['std_test_score']], subplots=True)\n",
        "\n",
        "plt.ylabel('Score médio de teste')\n",
        "plt.xlabel('Combinação de Hyperparâmetros');"
      ]
    },
    {
      "cell_type": "code",
      "execution_count": null,
      "metadata": {
        "id": "XjnIo29rCVd5"
      },
      "outputs": [],
      "source": [
        "X_treino_prev = grid_search.predict_proba(X_treino)[:,1]\n",
        "X_teste_prev = grid_search.predict_proba(X_teste)[:,1]\n",
        "\n",
        "print('Roc_Auc de Treino: ', roc_auc_score(y_treino, X_treino_prev))\n",
        "print('Roc_Auc de Teste: ', roc_auc_score(y_teste, X_teste_prev))"
      ]
    },
    {
      "cell_type": "code",
      "execution_count": null,
      "metadata": {
        "id": "lL9PLedtCVd5"
      },
      "outputs": [],
      "source": [
        "# Função para avaliar o desempenho do modelo com base em hiperparâmetros únicos\n",
        "\n",
        "def summarize_by_param(hparam):\n",
        "    \n",
        "    tmp = pd.concat([\n",
        "        results.groupby(hparam)['mean_test_score'].mean(),\n",
        "        results.groupby(hparam)['mean_test_score'].std(),\n",
        "    ], axis=1)\n",
        "\n",
        "    tmp.columns = ['mean_test_score', 'std_test_score']\n",
        "    \n",
        "    return tmp"
      ]
    },
    {
      "cell_type": "code",
      "execution_count": null,
      "metadata": {
        "id": "ODWZZj--CVd6"
      },
      "outputs": [],
      "source": [
        "# Desempenho de n_estimators\n",
        "\n",
        "tmp = summarize_by_param('param_n_estimators')\n",
        "\n",
        "tmp.head(6)"
      ]
    },
    {
      "cell_type": "code",
      "execution_count": null,
      "metadata": {
        "id": "MKuvmKq-CVd6"
      },
      "outputs": [],
      "source": [
        "tmp['mean_test_score'].plot(yerr=[tmp['std_test_score'], tmp['std_test_score']], subplots=True)\n",
        "plt.ylabel('roc-auc');"
      ]
    },
    {
      "cell_type": "markdown",
      "metadata": {
        "id": "cJK7i-zaCVd7"
      },
      "source": [
        "O hiperparâmetro ideal está em algum lugar acima de 100 até 250 podendo testar acima de 250."
      ]
    },
    {
      "cell_type": "code",
      "source": [
        "# Desempenho de max_depth\n",
        "\n",
        "tmp = summarize_by_param('param_max_depth')\n",
        "tmp.head(6)"
      ],
      "metadata": {
        "id": "UORvF5OJr8V8"
      },
      "execution_count": null,
      "outputs": []
    },
    {
      "cell_type": "code",
      "execution_count": null,
      "metadata": {
        "id": "mS-vHf8-CVd7"
      },
      "outputs": [],
      "source": [
        "tmp = summarize_by_param('param_max_depth')\n",
        "tmp['mean_test_score'].plot(yerr=[tmp['std_test_score'], tmp['std_test_score']], subplots=True)\n",
        "plt.ylabel('roc-auc');"
      ]
    },
    {
      "cell_type": "markdown",
      "metadata": {
        "id": "qnZzQ0B7CVd8"
      },
      "source": [
        "O hiperparâmetro ideal parece estar em algum lugar entre 2 e 3\n",
        "\n"
      ]
    },
    {
      "cell_type": "code",
      "source": [
        "# Desempenho de min_samples_split\n",
        "\n",
        "tmp = summarize_by_param('param_learning_rate')\n",
        "\n",
        "tmp.head(6)"
      ],
      "metadata": {
        "id": "iQ5qHjqysVZz"
      },
      "execution_count": null,
      "outputs": []
    },
    {
      "cell_type": "code",
      "execution_count": null,
      "metadata": {
        "id": "aSFwkRMKCVd8"
      },
      "outputs": [],
      "source": [
        "tmp = summarize_by_param('param_learning_rate')\n",
        "tmp['mean_test_score'].plot(yerr=[tmp['std_test_score'], tmp['std_test_score']], subplots=True);"
      ]
    },
    {
      "cell_type": "markdown",
      "metadata": {
        "id": "m-6XFd_ECVd9"
      },
      "source": [
        "O hiperparâmetro ideal parece estar em algum lugar entre 0.1 e 0.2, podendo testar acima de 0.2."
      ]
    },
    {
      "cell_type": "code",
      "execution_count": null,
      "metadata": {
        "id": "W4pXIGdhCVd9"
      },
      "outputs": [],
      "source": [
        "# Determinação do novo espaço do hiperparâmetro\n",
        "param_grid2 = dict(\n",
        "    n_estimators=[100, 125, 150, 175, 200, 225, 250, 275],\n",
        "    max_depth=[2,2.25, 2.5, 2.75,3],\n",
        "    learning_rate= [0.1, 0.12, 0.14, 0.16, 0.18, 0.2, 0.22, 0.24],\n",
        "    )\n",
        "\n",
        "# Configurando O Grid Search\n",
        "grid_search2 = GridSearchCV(xgb, param_grid2, scoring='roc_auc', cv=7)\n",
        "\n",
        "# Encontrando o melhor parâmetro\n",
        "grid_search2.fit(X_treino, y_treino)"
      ]
    },
    {
      "cell_type": "code",
      "execution_count": null,
      "metadata": {
        "id": "o8evspFgCVd-"
      },
      "outputs": [],
      "source": [
        "# Melhores Hiperparâmetros\n",
        "\n",
        "grid_search2.best_params_"
      ]
    },
    {
      "cell_type": "code",
      "execution_count": null,
      "metadata": {
        "id": "Ho2iWo8ACVd-"
      },
      "outputs": [],
      "source": [
        "results = pd.DataFrame(grid_search2.cv_results_)\n",
        "\n",
        "results.sort_values(by='mean_test_score', ascending=False, inplace=True)\n",
        "\n",
        "results.reset_index(drop=True, inplace=True)\n",
        "\n",
        "results[['param_n_estimators', 'param_max_depth', 'param_learning_rate',\n",
        "    'mean_test_score', 'std_test_score']].head()"
      ]
    },
    {
      "cell_type": "code",
      "execution_count": null,
      "metadata": {
        "id": "6X06GpquCVd_"
      },
      "outputs": [],
      "source": [
        "X_treino_prev = grid_search2.predict_proba(X_treino)[:,1]\n",
        "X_teste_prev = grid_search2.predict_proba(X_teste)[:,1]\n",
        "\n",
        "print('ROC-AUC Treino: ', roc_auc_score(y_treino, X_treino_prev))\n",
        "print('ROC-AUC Teste: ', roc_auc_score(y_teste, X_teste_prev))"
      ]
    },
    {
      "cell_type": "code",
      "source": [
        "print('Score médio do melhor modelo: {}'.format(round(grid_search.best_score_,4)))"
      ],
      "metadata": {
        "id": "GSsC0NtKVzjA"
      },
      "execution_count": null,
      "outputs": []
    },
    {
      "cell_type": "code",
      "source": [
        "print('Score médio do melhor modelo: {}'.format(round(grid_search2.best_score_,4)))"
      ],
      "metadata": {
        "id": "wROVHn1qV4t8"
      },
      "execution_count": null,
      "outputs": []
    },
    {
      "cell_type": "markdown",
      "source": [
        "# **RANDOM SEARCH**"
      ],
      "metadata": {
        "id": "-Nqgc2qy-3B-"
      }
    },
    {
      "cell_type": "code",
      "source": [
        "from scipy import stats"
      ],
      "metadata": {
        "id": "bYASuLrKBi2R"
      },
      "execution_count": null,
      "outputs": []
    },
    {
      "cell_type": "code",
      "execution_count": null,
      "metadata": {
        "id": "099gNtPJua14"
      },
      "outputs": [],
      "source": [
        "stats.randint.rvs(1, 5)"
      ]
    },
    {
      "cell_type": "code",
      "execution_count": null,
      "metadata": {
        "id": "xOTcvFVUua15"
      },
      "outputs": [],
      "source": [
        "stats.uniform.rvs(0, 1)"
      ]
    },
    {
      "cell_type": "code",
      "source": [
        "from xgboost import XGBClassifier\n",
        "from sklearn.metrics import roc_auc_score\n",
        "from sklearn.model_selection import RandomizedSearchCV"
      ],
      "metadata": {
        "id": "Jy3us0YPCQo2"
      },
      "execution_count": null,
      "outputs": []
    },
    {
      "cell_type": "code",
      "execution_count": null,
      "metadata": {
        "id": "yJaF20Q-ua17"
      },
      "outputs": [],
      "source": [
        "# Gerando o modelo\n",
        "xgb = XGBClassifier(random_state=0)"
      ]
    },
    {
      "cell_type": "code",
      "source": [
        "# Determinação do espaço de hiperparâmetros\n",
        "param_random = dict(\n",
        "    n_estimators=stats.randint(10, 300),\n",
        "    learning_rate=stats.uniform(0.001, 0.3),\n",
        "    max_depth=stats.randint(1, 8),\n",
        "    objective=('binary:logistic','binary:logitraw','binary:hinge')\n",
        "    )"
      ],
      "metadata": {
        "id": "tsk-DeZxCE_-"
      },
      "execution_count": null,
      "outputs": []
    },
    {
      "cell_type": "code",
      "execution_count": null,
      "metadata": {
        "id": "UgniAJ8Wua18"
      },
      "outputs": [],
      "source": [
        "# Configurando a procura com o Random Search\n",
        "random_search = RandomizedSearchCV(xgb,\n",
        "                            param_random,\n",
        "                            scoring='roc_auc',\n",
        "                            cv=7,\n",
        "                            n_iter = 100,\n",
        "                            random_state=0,\n",
        "                            n_jobs=4)"
      ]
    },
    {
      "cell_type": "code",
      "source": [
        "# Analisando os hiperparâmetros\n",
        "random_search.fit(X_treino, y_treino)"
      ],
      "metadata": {
        "id": "hdynIoBaCrad"
      },
      "execution_count": null,
      "outputs": []
    },
    {
      "cell_type": "code",
      "execution_count": null,
      "metadata": {
        "id": "Gfd8plYKua19"
      },
      "outputs": [],
      "source": [
        "# Melhores hiperparâmetros\n",
        "random_search.best_params_"
      ]
    },
    {
      "cell_type": "code",
      "execution_count": null,
      "metadata": {
        "id": "9SSAVz_Nua19"
      },
      "outputs": [],
      "source": [
        "# Resultados para todos os modelos\n",
        "\n",
        "results = pd.DataFrame(random_search.cv_results_)\n",
        "\n",
        "print(results.shape)\n",
        "\n",
        "results.head()"
      ]
    },
    {
      "cell_type": "code",
      "execution_count": null,
      "metadata": {
        "id": "0uYE3JcKua1-"
      },
      "outputs": [],
      "source": [
        "# Ordenando os modelos com melhores desempenhos\n",
        "results.sort_values(by='mean_test_score', ascending=False, inplace=True)\n",
        "\n",
        "results.reset_index(drop=True, inplace=True)\n",
        "\n",
        "results[['param_n_estimators', 'param_learning_rate', 'param_max_depth', 'param_objective',\n",
        "    'mean_test_score', 'std_test_score']].head()"
      ]
    },
    {
      "cell_type": "code",
      "execution_count": null,
      "metadata": {
        "id": "Kmd9TsHeua2A"
      },
      "outputs": [],
      "source": [
        "# Gráfico dos modelos conforme desempenho\n",
        "\n",
        "results['mean_test_score'].plot(yerr=[results['std_test_score'], results['std_test_score']], subplots=True)\n",
        "\n",
        "plt.ylabel('Score médio')\n",
        "plt.xlabel('Combinação de hiperparâmetros');"
      ]
    },
    {
      "cell_type": "code",
      "execution_count": null,
      "metadata": {
        "id": "jNCkendrua2A"
      },
      "outputs": [],
      "source": [
        "X_treino_prev = random_search.predict_proba(X_treino)[:,1]\n",
        "X_teste_prev = random_search.predict_proba(X_teste)[:,1]\n",
        "\n",
        "print('Train roc_auc: ', roc_auc_score(y_treino, X_treino_prev))\n",
        "print('Test roc_auc: ', roc_auc_score(y_teste, X_teste_prev))"
      ]
    },
    {
      "cell_type": "code",
      "source": [
        "print('Score médio do melhor modelo: {}'.format(round(random_search.best_score_,4)))"
      ],
      "metadata": {
        "id": "3uYlLP-QVl1h"
      },
      "execution_count": null,
      "outputs": []
    },
    {
      "cell_type": "markdown",
      "source": [
        "# **OTIMIZAÇÃO BAYESIANA**"
      ],
      "metadata": {
        "id": "ew79CtHBP0_q"
      }
    },
    {
      "cell_type": "code",
      "source": [
        "from sklearn.metrics import roc_auc_score"
      ],
      "metadata": {
        "id": "861DcOl5TWyU"
      },
      "execution_count": null,
      "outputs": []
    },
    {
      "cell_type": "code",
      "source": [
        "pip install scikit-optimize"
      ],
      "metadata": {
        "id": "1kTIQJB_TZlt"
      },
      "execution_count": null,
      "outputs": []
    },
    {
      "cell_type": "code",
      "source": [
        "# Importando o Bayes Search com cross-validation:\n",
        "from skopt import BayesSearchCV"
      ],
      "metadata": {
        "id": "ps1rjFRGTctr"
      },
      "execution_count": null,
      "outputs": []
    },
    {
      "cell_type": "code",
      "source": [
        "from xgboost import XGBClassifier"
      ],
      "metadata": {
        "id": "NbrBVhjuTWyV"
      },
      "execution_count": null,
      "outputs": []
    },
    {
      "cell_type": "code",
      "source": [
        "# Importando espaços de busca\n",
        "from skopt.space import Integer, Real, Categorical"
      ],
      "metadata": {
        "id": "X8jvbpUZThUZ"
      },
      "execution_count": null,
      "outputs": []
    },
    {
      "cell_type": "code",
      "source": [
        "# Definindo a otimização Bayesiana:\n",
        "bayes_search = BayesSearchCV(estimator = XGBClassifier(random_state = 0),\n",
        "                              search_spaces = {'n_estimators':Integer(1,300),\n",
        "                                               'learning_rate': Real(0.001,0.3),\n",
        "                                               'max_depth':Integer(1,8),\n",
        "                                               'objective': Categorical(['binary:logistic','binary:logitraw','binary:hinge'])},\n",
        "                              scoring='roc_auc', \n",
        "                              cv = 7,\n",
        "                              n_iter = 50)"
      ],
      "metadata": {
        "id": "GytZAKM3TlPx"
      },
      "execution_count": null,
      "outputs": []
    },
    {
      "cell_type": "code",
      "source": [
        "# Realizando a otimização Bayesiana\n",
        "bayes_search.fit(X_treino, y_treino)"
      ],
      "metadata": {
        "id": "h7TjMbWmU8xJ"
      },
      "execution_count": null,
      "outputs": []
    },
    {
      "cell_type": "code",
      "source": [
        "#Vamos ver informações relevantes:\n",
        "print('Melhor número de estimadores: {}'.format(bayes_search.best_params_['n_estimators']))\n",
        "print('Melhor taxa de aprendizagem: {}'.format(bayes_search.best_params_['learning_rate']))\n",
        "print('Melhor profundidade maxima: {}'.format(bayes_search.best_params_['max_depth']))\n",
        "print('Melhor estimador de perda: {}'.format(bayes_search.best_params_['objective']))\n",
        "print('Score médio do melhor modelo: {}'.format(round(bayes_search.best_score_,4)))"
      ],
      "metadata": {
        "id": "wC6orEI5XIOg"
      },
      "execution_count": null,
      "outputs": []
    },
    {
      "cell_type": "code",
      "source": [
        "X_treino_prev = bayes_search.predict_proba(X_treino)[:,1]\n",
        "X_teste_prev = bayes_search.predict_proba(X_teste)[:,1]\n",
        "\n",
        "print('Train roc_auc: ', roc_auc_score(y_treino, X_treino_prev))\n",
        "print('Test roc_auc: ', roc_auc_score(y_teste, X_teste_prev))"
      ],
      "metadata": {
        "id": "O1tHM6G9wVjr"
      },
      "execution_count": null,
      "outputs": []
    }
  ],
  "metadata": {
    "kernelspec": {
      "display_name": "html",
      "language": "python",
      "name": "html"
    },
    "language_info": {
      "codemirror_mode": {
        "name": "ipython",
        "version": 3
      },
      "file_extension": ".py",
      "mimetype": "text/x-python",
      "name": "python",
      "nbconvert_exporter": "python",
      "pygments_lexer": "ipython3",
      "version": "3.8.2"
    },
    "toc": {
      "base_numbering": 1,
      "nav_menu": {},
      "number_sections": true,
      "sideBar": true,
      "skip_h1_title": false,
      "title_cell": "Table of Contents",
      "title_sidebar": "Contents",
      "toc_cell": false,
      "toc_position": {},
      "toc_section_display": true,
      "toc_window_display": false
    },
    "colab": {
      "provenance": []
    }
  },
  "nbformat": 4,
  "nbformat_minor": 0
}