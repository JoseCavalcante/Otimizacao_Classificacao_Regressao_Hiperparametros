{
  "nbformat": 4,
  "nbformat_minor": 0,
  "metadata": {
    "colab": {
      "provenance": []
    },
    "kernelspec": {
      "name": "python3",
      "display_name": "Python 3"
    },
    "language_info": {
      "name": "python"
    }
  },
  "cells": [
    {
      "cell_type": "markdown",
      "source": [
        "# **PRINCIPAIS HIPERPARÂMETROS DE XGBOOST**"
      ],
      "metadata": {
        "id": "T3b-GyrNRcKe"
      }
    },
    {
      "cell_type": "code",
      "source": [
        "from xgboost import XGBClassifier"
      ],
      "metadata": {
        "id": "-2oaMph5OFa2"
      },
      "execution_count": 1,
      "outputs": []
    },
    {
      "cell_type": "code",
      "source": [
        "XGBClassifier?"
      ],
      "metadata": {
        "id": "cd_e-h30QTEq"
      },
      "execution_count": 2,
      "outputs": []
    },
    {
      "cell_type": "markdown",
      "source": [
        "https://xgboost.readthedocs.io/en/stable/"
      ],
      "metadata": {
        "id": "AndItSwYdsDC"
      }
    },
    {
      "cell_type": "markdown",
      "source": [
        "**max_depth (int, default=3) =** profundidade máxima.\n",
        "\n",
        "**learning_rate (float, default=0.1) =** taxa de aprendizagem. Taxa de evolução no aprendizado. Quanto menor melhor, mas maior o tempo de execução.\n",
        "\n",
        "**verbosity (int, default=1) =**mensagens de impressão. Os valores válidos são 0 (silencioso), 1 (aviso), 2 (informações), 3 (depuração)."
      ],
      "metadata": {
        "id": "jsS6WtaxpAYg"
      }
    },
    {
      "cell_type": "markdown",
      "source": [
        "**objective (string, default='binary:logistic') =** função de perda.\n",
        "https://xgboost.readthedocs.io/en/latest/parameter.html#learning-task-parameters"
      ],
      "metadata": {
        "id": "lNfdrwb4sWEb"
      }
    }
  ]
}